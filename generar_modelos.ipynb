{
  "nbformat": 4,
  "nbformat_minor": 0,
  "metadata": {
    "colab": {
      "provenance": [],
      "include_colab_link": true
    },
    "kernelspec": {
      "name": "python3",
      "display_name": "Python 3"
    },
    "language_info": {
      "name": "python"
    }
  },
  "cells": [
    {
      "cell_type": "markdown",
      "metadata": {
        "id": "view-in-github",
        "colab_type": "text"
      },
      "source": [
        "<a href=\"https://colab.research.google.com/github/claudialeguiza/AA1-TUIA-Kidonakis-Leguiza/blob/navegador/generar_modelos.ipynb\" target=\"_parent\"><img src=\"https://colab.research.google.com/assets/colab-badge.svg\" alt=\"Open In Colab\"/></a>"
      ]
    },
    {
      "cell_type": "code",
      "execution_count": 20,
      "metadata": {
        "id": "cLXc7T2zEqU4"
      },
      "outputs": [],
      "source": [
        "import numpy as np\n",
        "import matplotlib.pyplot as plt\n",
        "import pandas as pd\n",
        "from sklearn.preprocessing import RobustScaler, FunctionTransformer\n",
        "from imblearn.over_sampling import SMOTE\n",
        "from sklearn.pipeline import Pipeline\n",
        "import keras\n",
        "from keras.models import Sequential, save_model, load_model\n",
        "from keras.layers import Dense, Activation, Dropout\n",
        "import joblib\n",
        "import warnings\n",
        "warnings.simplefilter('ignore')"
      ]
    },
    {
      "cell_type": "code",
      "source": [
        "datos = pd.read_csv('/content/weatherAUS.csv', delimiter = \",\")"
      ],
      "metadata": {
        "id": "-30WTKMoFk2h"
      },
      "execution_count": 2,
      "outputs": []
    },
    {
      "cell_type": "code",
      "source": [
        "df = datos[datos.Location\\\n",
        "                      .isin(( 'Sydney','SydneyAirport','Melbourne', 'MelbourneAirport',\\\n",
        "                             'Canberra','Adelaide', 'MountGambier','Cobar', 'Dartmoor' ))]"
      ],
      "metadata": {
        "id": "D8UxDqY7GAQf"
      },
      "execution_count": 3,
      "outputs": []
    },
    {
      "cell_type": "code",
      "source": [
        "def preprocesamiento(data):\n",
        "    data.info()\n",
        "    data.isna().sum()\n",
        "\n",
        "    # Definir columnas con valores nulos\n",
        "    columnas_con_nulos = ['MinTemp', 'MaxTemp', 'Rainfall', 'Evaporation', 'Sunshine',\n",
        "                          'WindGustSpeed', 'WindSpeed9am', 'WindSpeed3pm','Humidity9am',\n",
        "                          'Humidity3pm', 'Pressure9am','Pressure3pm', 'Cloud9am',\n",
        "                          'Cloud3pm', 'Temp9am', 'Temp3pm', 'RainfallTomorrow']\n",
        "\n",
        "    # Rellenar valores faltantes en 'RainToday' y 'RainTomorrow'\n",
        "    data['RainToday'] = data.groupby('Date')['RainToday'].transform(lambda x: x.fillna(x.mode().iloc[0]))\n",
        "    data['RainTomorrow'] = data.groupby('Date')['RainTomorrow'].transform(lambda x: x.fillna(x.mode().iloc[0]))\n",
        "\n",
        "    # Rellenar valores faltantes en direcciones del viento\n",
        "    data['WindGustDir'] = data.groupby('Date')['WindGustDir'].transform(lambda x: x.fillna(x.mode().iloc[0]) if not x.isna().all() else x)\n",
        "    data['WindDir9am'] = data.groupby('Date')['WindDir9am'].transform(lambda x: x.fillna(x.mode().iloc[0]) if not x.isna().all() else x)\n",
        "    data['WindDir3pm'] = data.groupby('Date')['WindDir3pm'].transform(lambda x: x.fillna(x.mode().iloc[0]) if not x.isna().all() else x)\n",
        "\n",
        "    # Rellenar valores faltantes con la media por día para las columnas especificadas\n",
        "    media_por_dia = data.groupby('Date')[columnas_con_nulos].transform('mean')\n",
        "    data[columnas_con_nulos] = data[columnas_con_nulos].fillna(media_por_dia)\n",
        "\n",
        "    data['Date'] = pd.to_datetime(data['Date'])\n",
        "\n",
        "    return data\n"
      ],
      "metadata": {
        "id": "Vm6gEs76HBKk"
      },
      "execution_count": 4,
      "outputs": []
    },
    {
      "cell_type": "code",
      "source": [
        "def crear_columna_season(data):\n",
        "   data['season'] = data['Date'].apply(asignar_estacion)\n",
        "   return data"
      ],
      "metadata": {
        "id": "BJx1V3tHHViG"
      },
      "execution_count": 5,
      "outputs": []
    },
    {
      "cell_type": "code",
      "source": [
        "def asignar_estacion(fecha):\n",
        "    mes = fecha.month\n",
        "    if mes in [12, 1, 2]:  # Verano: Diciembre, Enero, Febrero\n",
        "        return 'Summer'\n",
        "    elif mes in [3, 4, 5]:  # Otoño: Marzo, Abril, Mayo\n",
        "        return 'Autumn'\n",
        "    elif mes in [6, 7, 8]:  # Invierno: Junio, Julio, Agosto\n",
        "        return 'Winter'\n",
        "    else:  # Primavera: Septiembre, Octubre, Noviembre\n",
        "        return 'Spring'"
      ],
      "metadata": {
        "id": "25SCfZasHepN"
      },
      "execution_count": 6,
      "outputs": []
    },
    {
      "cell_type": "code",
      "source": [
        "def codificar_variables(data):\n",
        "    data1 = pd.get_dummies(data, columns=['RainToday', 'RainTomorrow', 'season', 'Location'], drop_first=True)\n",
        "\n",
        "    # Crear columnas para WindGustDir, WindDir9am, WindDir3pm\n",
        "    wind_directions = [\"SW\", \"S\", 'SSW', 'W', 'SSE', 'E', 'SE', 'NE', 'NNE', 'WSW', 'WNW', 'NW', 'N', 'ESE', 'ENE']\n",
        "    for var in wind_directions:\n",
        "        data1[f'WindGustDir_{var}'] = (data['WindGustDir'] == var).astype(int)\n",
        "        data1[f'WindDir9am_{var}'] = (data['WindDir9am'] == var).astype(int)\n",
        "        data1[f'WindDir3pm_{var}'] = (data['WindDir3pm'] == var).astype(int)\n",
        "\n",
        "    return data1.drop(columns=['WindGustDir', 'WindDir9am', 'WindDir3pm'])"
      ],
      "metadata": {
        "id": "JngxP-xIHjFl"
      },
      "execution_count": 15,
      "outputs": []
    },
    {
      "cell_type": "code",
      "source": [
        "def estandarizar_df(data):\n",
        "  scaler = RobustScaler()\n",
        "  data_scaled = scaler.fit_transform(data)\n",
        "  return data_scaled"
      ],
      "metadata": {
        "id": "py6hmsCWWbUi"
      },
      "execution_count": 8,
      "outputs": []
    },
    {
      "cell_type": "code",
      "source": [
        "def truncar_dividir_df(data):\n",
        "    data = data.sort_values([\"Date\"])\n",
        "    fecha_especifica = '2009-01-01'\n",
        "    data_filtrada = data[data['Date'] >= fecha_especifica]\n",
        "\n",
        "    data_filtrada.reset_index(drop=True, inplace=True)  # Resetea el índice y no crea uno nuevo\n",
        "    data_train = data_filtrada.iloc[:21658]\n",
        "    data_test = data_filtrada.iloc[21658:]\n",
        "\n",
        "    return data_train, data_test"
      ],
      "metadata": {
        "id": "t4iH0DupLSY8"
      },
      "execution_count": 27,
      "outputs": []
    },
    {
      "cell_type": "code",
      "source": [
        "def estandarizar_regresion(data):\n",
        "    # Separar variables independientes y dependientes\n",
        "    X_regresion = data.drop(columns=['RainfallTomorrow', 'Date'])\n",
        "    X_scaled = estandarizar_df(X_regresion)\n",
        "    y_regresion = data['RainfallTomorrow'].values.reshape(-1, 1)\n",
        "    y_scaled = estandarizar_df(pd.DataFrame(y_regresion, columns=['RainfallTomorrow']))\n",
        "    return X_scaled, y_scaled"
      ],
      "metadata": {
        "id": "zJk2EMejqT5l"
      },
      "execution_count": 24,
      "outputs": []
    },
    {
      "cell_type": "code",
      "source": [
        "def estandarizar_balancear_clasificacion(data):\n",
        "    X_clasificacion = data.drop(columns=['RainTomorrow_Yes', \"RainfallTomorrow\", \"Date\"])\n",
        "    X_scaled1 = estandarizar_df(X_clasificacion)\n",
        "    y_clasificacion = data['RainTomorrow_Yes']\n",
        "\n",
        "    smote = SMOTE(random_state=42)\n",
        "    X_smote_scaled, y_smote_scaled = smote.fit_resample(X_scaled1, y_clasificacion)\n",
        "\n",
        "    return X_smote_scaled, y_smote_scaled"
      ],
      "metadata": {
        "id": "Uto6RXcgcruv"
      },
      "execution_count": 25,
      "outputs": []
    },
    {
      "cell_type": "code",
      "source": [
        "pipeline_prepara_datos = Pipeline([\n",
        "    ('preproceso', FunctionTransformer(preprocesamiento, validate=False)),\n",
        "    ('season', FunctionTransformer(crear_columna_season, validate=False)),\n",
        "    ('codificar', FunctionTransformer(codificar_variables, validate=False))\n",
        "])\n",
        "\n",
        "# Obtener datos de entrenamiento\n",
        "df_procesado = pipeline_prepara_datos.fit_transform(df)\n",
        "\n",
        "# Convertir la salida del pipeline a DataFrame y verificar la salida\n",
        "df_procesado = pd.DataFrame(df_procesado, columns=pipeline_prepara_datos.named_steps['codificar'].fit_transform(df).columns)\n",
        "\n",
        "# Dividir datos en entrenamiento y prueba\n",
        "data_train, data_test = truncar_dividir_df(df_procesado)\n",
        "\n",
        "# Entrenar modelo de regresión\n",
        "X_train_scaled, y_train_scaled = estandarizar_regresion(data_train)\n",
        "\n",
        "\n",
        "\n",
        "\n",
        "# joblib.dump(pipe_regresionregresion, 'models/regresion_pipeline.joblib')"
      ],
      "metadata": {
        "colab": {
          "base_uri": "https://localhost:8080/"
        },
        "id": "QXESzQ93GB1A",
        "outputId": "4355abcf-237c-4936-b106-ebdbee120e96"
      },
      "execution_count": 30,
      "outputs": [
        {
          "output_type": "stream",
          "name": "stdout",
          "text": [
            "<class 'pandas.core.frame.DataFrame'>\n",
            "Index: 28233 entries, 6047 to 102519\n",
            "Data columns (total 26 columns):\n",
            " #   Column            Non-Null Count  Dtype         \n",
            "---  ------            --------------  -----         \n",
            " 0   Unnamed: 0        28233 non-null  int64         \n",
            " 1   Date              28233 non-null  datetime64[ns]\n",
            " 2   Location          28233 non-null  object        \n",
            " 3   MinTemp           28233 non-null  float64       \n",
            " 4   MaxTemp           28233 non-null  float64       \n",
            " 5   Rainfall          28233 non-null  float64       \n",
            " 6   Evaporation       28233 non-null  float64       \n",
            " 7   Sunshine          28233 non-null  float64       \n",
            " 8   WindGustDir       28229 non-null  object        \n",
            " 9   WindGustSpeed     28231 non-null  float64       \n",
            " 10  WindDir9am        28231 non-null  object        \n",
            " 11  WindDir3pm        28233 non-null  object        \n",
            " 12  WindSpeed9am      28233 non-null  float64       \n",
            " 13  WindSpeed3pm      28233 non-null  float64       \n",
            " 14  Humidity9am       28233 non-null  float64       \n",
            " 15  Humidity3pm       28233 non-null  float64       \n",
            " 16  Pressure9am       28233 non-null  float64       \n",
            " 17  Pressure3pm       28233 non-null  float64       \n",
            " 18  Cloud9am          28233 non-null  float64       \n",
            " 19  Cloud3pm          28233 non-null  float64       \n",
            " 20  Temp9am           28233 non-null  float64       \n",
            " 21  Temp3pm           28233 non-null  float64       \n",
            " 22  RainToday         28233 non-null  object        \n",
            " 23  RainTomorrow      28233 non-null  object        \n",
            " 24  RainfallTomorrow  28233 non-null  float64       \n",
            " 25  season            28233 non-null  object        \n",
            "dtypes: datetime64[ns](1), float64(17), int64(1), object(7)\n",
            "memory usage: 5.8+ MB\n"
          ]
        }
      ]
    },
    {
      "cell_type": "code",
      "source": [
        "pipe_clasificacion = Pipeline([\n",
        "    ('imputer', preprocesamiento(df), crear_columna_season(df), codificar_variables(df)),\n",
        "    ('scaler', RobustScaler()),\n",
        "    ('model', classification_model_best_params)\n",
        "])\n",
        "\n",
        "pipe_clasificacion.fit(X_smote_train, y_smote_train)\n",
        "\n",
        "joblib.dump(pipe_clasificacion, 'models/clasificacion_pipeline.joblib')"
      ],
      "metadata": {
        "id": "emoswcDTGW0G"
      },
      "execution_count": null,
      "outputs": []
    }
  ]
}
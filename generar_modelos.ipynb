{
  "nbformat": 4,
  "nbformat_minor": 0,
  "metadata": {
    "colab": {
      "provenance": [],
      "include_colab_link": true
    },
    "kernelspec": {
      "name": "python3",
      "display_name": "Python 3"
    },
    "language_info": {
      "name": "python"
    }
  },
  "cells": [
    {
      "cell_type": "markdown",
      "metadata": {
        "id": "view-in-github",
        "colab_type": "text"
      },
      "source": [
        "<a href=\"https://colab.research.google.com/github/claudialeguiza/AA1-TUIA-Kidonakis-Leguiza/blob/navegador/generar_modelos.ipynb\" target=\"_parent\"><img src=\"https://colab.research.google.com/assets/colab-badge.svg\" alt=\"Open In Colab\"/></a>"
      ]
    },
    {
      "cell_type": "code",
      "execution_count": 64,
      "metadata": {
        "id": "cLXc7T2zEqU4"
      },
      "outputs": [],
      "source": [
        "import numpy as np\n",
        "import matplotlib.pyplot as plt\n",
        "import pandas as pd\n",
        "from sklearn.preprocessing import RobustScaler, FunctionTransformer\n",
        "from imblearn.over_sampling import SMOTE\n",
        "from sklearn.pipeline import Pipeline\n",
        "import keras\n",
        "from keras.models import Sequential, load_model\n",
        "from keras.layers import Dense, Activation, Dropout\n",
        "from keras.optimizers import Adam\n",
        "from keras.metrics import Precision\n",
        "from keras.utils import to_categorical\n",
        "import joblib\n",
        "import warnings\n",
        "warnings.simplefilter('ignore')"
      ]
    },
    {
      "cell_type": "code",
      "source": [
        "datos = pd.read_csv('/content/weatherAUS.csv', delimiter = \",\")"
      ],
      "metadata": {
        "id": "-30WTKMoFk2h"
      },
      "execution_count": 65,
      "outputs": []
    },
    {
      "cell_type": "code",
      "source": [
        "df = datos[datos.Location\\\n",
        "                      .isin(( 'Sydney','SydneyAirport','Melbourne', 'MelbourneAirport',\\\n",
        "                             'Canberra','Adelaide', 'MountGambier','Cobar', 'Dartmoor' ))]"
      ],
      "metadata": {
        "id": "D8UxDqY7GAQf"
      },
      "execution_count": 66,
      "outputs": []
    },
    {
      "cell_type": "code",
      "source": [
        "def preprocesamiento(data):\n",
        "    data.info()\n",
        "    data.isna().sum()\n",
        "\n",
        "    # Definir columnas con valores nulos\n",
        "    columnas_con_nulos = ['MinTemp', 'MaxTemp', 'Rainfall', 'Evaporation', 'Sunshine',\n",
        "                          'WindGustSpeed', 'WindSpeed9am', 'WindSpeed3pm','Humidity9am',\n",
        "                          'Humidity3pm', 'Pressure9am','Pressure3pm', 'Cloud9am',\n",
        "                          'Cloud3pm', 'Temp9am', 'Temp3pm', 'RainfallTomorrow']\n",
        "\n",
        "    # Rellenar valores faltantes en 'RainToday' y 'RainTomorrow'\n",
        "    data['RainToday'] = data.groupby('Date')['RainToday'].transform(lambda x: x.fillna(x.mode().iloc[0]))\n",
        "    data['RainTomorrow'] = data.groupby('Date')['RainTomorrow'].transform(lambda x: x.fillna(x.mode().iloc[0]))\n",
        "\n",
        "    # Rellenar valores faltantes en direcciones del viento\n",
        "    data['WindGustDir'] = data.groupby('Date')['WindGustDir'].transform(lambda x: x.fillna(x.mode().iloc[0]) if not x.isna().all() else x)\n",
        "    data['WindDir9am'] = data.groupby('Date')['WindDir9am'].transform(lambda x: x.fillna(x.mode().iloc[0]) if not x.isna().all() else x)\n",
        "    data['WindDir3pm'] = data.groupby('Date')['WindDir3pm'].transform(lambda x: x.fillna(x.mode().iloc[0]) if not x.isna().all() else x)\n",
        "\n",
        "    # Rellenar valores faltantes con la media por día para las columnas especificadas\n",
        "    media_por_dia = data.groupby('Date')[columnas_con_nulos].transform('mean')\n",
        "    data[columnas_con_nulos] = data[columnas_con_nulos].fillna(media_por_dia)\n",
        "\n",
        "    data['Date'] = pd.to_datetime(data['Date'])\n",
        "\n",
        "    return data\n"
      ],
      "metadata": {
        "id": "Vm6gEs76HBKk"
      },
      "execution_count": 67,
      "outputs": []
    },
    {
      "cell_type": "code",
      "source": [
        "def crear_columna_season(data):\n",
        "   data['season'] = data['Date'].apply(asignar_estacion)\n",
        "   return data"
      ],
      "metadata": {
        "id": "BJx1V3tHHViG"
      },
      "execution_count": 68,
      "outputs": []
    },
    {
      "cell_type": "code",
      "source": [
        "def asignar_estacion(fecha):\n",
        "    mes = fecha.month\n",
        "    if mes in [12, 1, 2]:  # Verano: Diciembre, Enero, Febrero\n",
        "        return 'Summer'\n",
        "    elif mes in [3, 4, 5]:  # Otoño: Marzo, Abril, Mayo\n",
        "        return 'Autumn'\n",
        "    elif mes in [6, 7, 8]:  # Invierno: Junio, Julio, Agosto\n",
        "        return 'Winter'\n",
        "    else:  # Primavera: Septiembre, Octubre, Noviembre\n",
        "        return 'Spring'"
      ],
      "metadata": {
        "id": "25SCfZasHepN"
      },
      "execution_count": 69,
      "outputs": []
    },
    {
      "cell_type": "code",
      "source": [
        "def codificar_variables(data):\n",
        "    data1 = pd.get_dummies(data, columns=['RainToday', 'RainTomorrow', 'season', 'Location'], drop_first=True)\n",
        "\n",
        "    # Crear columnas para WindGustDir, WindDir9am, WindDir3pm\n",
        "    wind_directions = [\"SW\", \"S\", 'SSW', 'W', 'SSE', 'E', 'SE', 'NE', 'NNE', 'WSW', 'WNW', 'NW', 'N', 'ESE', 'ENE']\n",
        "    for var in wind_directions:\n",
        "        data1[f'WindGustDir_{var}'] = (data['WindGustDir'] == var).astype(int)\n",
        "        data1[f'WindDir9am_{var}'] = (data['WindDir9am'] == var).astype(int)\n",
        "        data1[f'WindDir3pm_{var}'] = (data['WindDir3pm'] == var).astype(int)\n",
        "\n",
        "    return data1.drop(columns=['WindGustDir', 'WindDir9am', 'WindDir3pm'])"
      ],
      "metadata": {
        "id": "JngxP-xIHjFl"
      },
      "execution_count": 70,
      "outputs": []
    },
    {
      "cell_type": "code",
      "source": [
        "def robust_df(data):\n",
        "  scaler = RobustScaler()\n",
        "  data_scaled = scaler.fit_transform(data)\n",
        "  return data_scaled"
      ],
      "metadata": {
        "id": "py6hmsCWWbUi"
      },
      "execution_count": 71,
      "outputs": []
    },
    {
      "cell_type": "code",
      "source": [
        "def truncar_dividir_df(data):\n",
        "    data = data.sort_values([\"Date\"])\n",
        "    fecha_especifica = '2009-01-01'\n",
        "    data_filtrada = data[data['Date'] >= fecha_especifica]\n",
        "\n",
        "    data_filtrada.reset_index(drop=True, inplace=True)  # Resetea el índice y no crea uno nuevo\n",
        "    data_train = data_filtrada.iloc[:21658]\n",
        "    #data_test = data_filtrada.iloc[21658:]\n",
        "\n",
        "    return data_train"
      ],
      "metadata": {
        "id": "t4iH0DupLSY8"
      },
      "execution_count": 72,
      "outputs": []
    },
    {
      "cell_type": "code",
      "source": [
        "def eliminar_columnas_estandarizar(data):\n",
        "    # Separar variables independientes y dependientes\n",
        "    X_regresion = data.drop(columns =['RainfallTomorrow','Date'])\n",
        "    X_scaled = robust_df(X_regresion)\n",
        "    y_regresion = data['RainfallTomorrow']\n",
        "    y_scaled = robust_df(y_regresion.values.reshape(-1,1))\n",
        "    return X_scaled, y_scaled"
      ],
      "metadata": {
        "id": "zJk2EMejqT5l"
      },
      "execution_count": 79,
      "outputs": []
    },
    {
      "cell_type": "code",
      "source": [
        "def estandarizar_balancear_clas(data):\n",
        "    X_clasificacion = data.drop(columns=['RainTomorrow_Yes','Date'])\n",
        "    X_scaled1 = robust_df(X_clasificacion)\n",
        "    y_clasificacion = data['RainTomorrow_Yes']\n",
        "    y_scaled1 =robust_df(y_clasificacion.values.reshape(-1,1))\n",
        "    smote = SMOTE(random_state=42)\n",
        "    X_smote_scaled, y_smote_scaled = smote.fit_resample(X_scaled1, y_scaled1)\n",
        "\n",
        "    return X_smote_scaled, y_smote_scaled"
      ],
      "metadata": {
        "id": "Uto6RXcgcruv"
      },
      "execution_count": 82,
      "outputs": []
    },
    {
      "cell_type": "code",
      "source": [
        "def cargar_modelo_regresion():\n",
        "    # Cargamos el modelo\n",
        "      modelo_regresion = load_model('/content/regression_model.h5')\n",
        "      return modelo_regresion"
      ],
      "metadata": {
        "id": "zlnQZrVastUM"
      },
      "execution_count": 76,
      "outputs": []
    },
    {
      "cell_type": "code",
      "source": [
        "def cargar_modelo_clasificacion():\n",
        "      modelo_clasif = load_model('/content/classification_model_optimized.h5')\n",
        "      return modelo_clasif"
      ],
      "metadata": {
        "id": "dYq1rX3GuVvM"
      },
      "execution_count": 77,
      "outputs": []
    },
    {
      "cell_type": "code",
      "source": [
        "pipeline_prepara_datos = Pipeline([\n",
        "    ('preproceso', FunctionTransformer(preprocesamiento, validate=False)),\n",
        "    ('season', FunctionTransformer(crear_columna_season, validate=False)),\n",
        "    ('codificar', FunctionTransformer(codificar_variables, validate=False))\n",
        "])\n",
        "\n",
        "# Obtener datos de entrenamiento\n",
        "df_procesado = pipeline_prepara_datos.fit_transform(df)\n",
        "\n",
        "pipeline_train_split = Pipeline([\n",
        "    ('split', FunctionTransformer(truncar_dividir_df, validate=False)),\n",
        "    ('estandarizar', FunctionTransformer(eliminar_columnas_estandarizar, validate=False)),\n",
        "    ])\n",
        "\n",
        "pipeline_modelo_regresion = Pipeline([\n",
        "     ('modelo', FunctionTransformer(cargar_modelo_regresion, validate=False))\n",
        "                                      ])\n",
        "# Obtener datos de entrenamiento\n",
        "X_train_scaled, y_train_scaled = pipeline_train_split.fit_transform(df_procesado)\n",
        "\n",
        " # Entrenar el modelo\n",
        "pipeline_modelo_regresion.fit(X_train_scaled, y_train_scaled)\n",
        "\n",
        "joblib.dump(pipeline_modelo_regresion, 'regresion_pipeline.joblib')"
      ],
      "metadata": {
        "id": "QXESzQ93GB1A",
        "colab": {
          "base_uri": "https://localhost:8080/"
        },
        "outputId": "ab2509a1-cec4-424a-d271-e534b4cce76a"
      },
      "execution_count": 80,
      "outputs": [
        {
          "output_type": "stream",
          "name": "stdout",
          "text": [
            "<class 'pandas.core.frame.DataFrame'>\n",
            "Index: 28233 entries, 6047 to 102519\n",
            "Data columns (total 26 columns):\n",
            " #   Column            Non-Null Count  Dtype         \n",
            "---  ------            --------------  -----         \n",
            " 0   Unnamed: 0        28233 non-null  int64         \n",
            " 1   Date              28233 non-null  datetime64[ns]\n",
            " 2   Location          28233 non-null  object        \n",
            " 3   MinTemp           28233 non-null  float64       \n",
            " 4   MaxTemp           28233 non-null  float64       \n",
            " 5   Rainfall          28233 non-null  float64       \n",
            " 6   Evaporation       28233 non-null  float64       \n",
            " 7   Sunshine          28233 non-null  float64       \n",
            " 8   WindGustDir       28229 non-null  object        \n",
            " 9   WindGustSpeed     28231 non-null  float64       \n",
            " 10  WindDir9am        28231 non-null  object        \n",
            " 11  WindDir3pm        28233 non-null  object        \n",
            " 12  WindSpeed9am      28233 non-null  float64       \n",
            " 13  WindSpeed3pm      28233 non-null  float64       \n",
            " 14  Humidity9am       28233 non-null  float64       \n",
            " 15  Humidity3pm       28233 non-null  float64       \n",
            " 16  Pressure9am       28233 non-null  float64       \n",
            " 17  Pressure3pm       28233 non-null  float64       \n",
            " 18  Cloud9am          28233 non-null  float64       \n",
            " 19  Cloud3pm          28233 non-null  float64       \n",
            " 20  Temp9am           28233 non-null  float64       \n",
            " 21  Temp3pm           28233 non-null  float64       \n",
            " 22  RainToday         28233 non-null  object        \n",
            " 23  RainTomorrow      28233 non-null  object        \n",
            " 24  RainfallTomorrow  28233 non-null  float64       \n",
            " 25  season            28233 non-null  object        \n",
            "dtypes: datetime64[ns](1), float64(17), int64(1), object(7)\n",
            "memory usage: 5.8+ MB\n"
          ]
        },
        {
          "output_type": "execute_result",
          "data": {
            "text/plain": [
              "['regresion_pipeline.joblib']"
            ]
          },
          "metadata": {},
          "execution_count": 80
        }
      ]
    },
    {
      "cell_type": "code",
      "source": [
        "pipeline_train_split_clas = Pipeline([\n",
        "    ('split', FunctionTransformer(truncar_dividir_df, validate=False)),\n",
        "    ('estandarizar_clas', FunctionTransformer(estandarizar_balancear_clas, validate=False)),\n",
        "    ])\n",
        "\n",
        "pipeline_modelo_clasificacion = Pipeline([\n",
        "     ('modelo_clas', FunctionTransformer(cargar_modelo_clasificacion, validate=False))\n",
        "                                      ])\n",
        "# Obtener datos de entrenamiento\n",
        "X_smote, y_smote = pipeline_train_split_clas.fit_transform(df_procesado)\n",
        "\n",
        "# Entrenar_modelo\n",
        "pipeline_modelo_clasificacion.fit(X_smote, y_smote)\n",
        "\n",
        "joblib.dump(pipeline_modelo_clasificacion, 'clasificacion_pipeline.joblib')"
      ],
      "metadata": {
        "id": "emoswcDTGW0G",
        "colab": {
          "base_uri": "https://localhost:8080/"
        },
        "outputId": "a30ce974-1825-4f37-8186-7a7b1db35e69"
      },
      "execution_count": 83,
      "outputs": [
        {
          "output_type": "execute_result",
          "data": {
            "text/plain": [
              "['clasificacion_pipeline.joblib']"
            ]
          },
          "metadata": {},
          "execution_count": 83
        }
      ]
    }
  ]
}
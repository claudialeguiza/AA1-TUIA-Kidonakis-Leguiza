{
  "cells": [
    {
      "cell_type": "markdown",
      "metadata": {
        "colab_type": "text",
        "id": "view-in-github"
      },
      "source": [
        "<a href=\"https://colab.research.google.com/github/claudialeguiza/AA1-TUIA-Kidonakis-Leguiza/blob/navegador/generar_modelos.ipynb\" target=\"_parent\"><img src=\"https://colab.research.google.com/assets/colab-badge.svg\" alt=\"Open In Colab\"/></a>"
      ]
    },
    {
      "cell_type": "code",
      "execution_count": 1,
      "metadata": {
        "id": "cLXc7T2zEqU4"
      },
      "outputs": [],
      "source": [
        "import numpy as np\n",
        "import matplotlib.pyplot as plt\n",
        "import pandas as pd\n",
        "from sklearn.preprocessing import RobustScaler, FunctionTransformer\n",
        "from imblearn.over_sampling import SMOTE\n",
        "from sklearn.pipeline import Pipeline\n",
        "import keras\n",
        "from keras.models import Sequential, save_model, load_model\n",
        "from keras.layers import Dense, Activation, Dropout\n",
        "from keras.optimizers import Adam\n",
        "from keras.metrics import Precision\n",
        "from keras.utils import to_categorical\n",
        "import joblib\n",
        "import warnings\n",
        "warnings.simplefilter('ignore')"
      ]
    },
    {
      "cell_type": "code",
      "execution_count": 2,
      "metadata": {
        "id": "-30WTKMoFk2h"
      },
      "outputs": [],
      "source": [
        "datos = pd.read_csv(r'C:\\Users\\solki\\OneDrive\\Documentos\\AA_Final\\AA1-TUIA-Kidonakis-Leguiza\\weatherAUS.csv', delimiter=\",\")\n"
      ]
    },
    {
      "cell_type": "code",
      "execution_count": 3,
      "metadata": {
        "id": "D8UxDqY7GAQf"
      },
      "outputs": [],
      "source": [
        "df = datos[datos.Location\\\n",
        "                      .isin(( 'Sydney','SydneyAirport','Melbourne', 'MelbourneAirport',\\\n",
        "                             'Canberra','Adelaide', 'MountGambier','Cobar', 'Dartmoor' ))]"
      ]
    },
    {
      "cell_type": "code",
      "execution_count": 4,
      "metadata": {
        "id": "Vm6gEs76HBKk"
      },
      "outputs": [],
      "source": [
        "def preprocesamiento(data):\n",
        "    data.info()\n",
        "    data.isna().sum()\n",
        "\n",
        "    # Definir columnas con valores nulos\n",
        "    columnas_con_nulos = ['MinTemp', 'MaxTemp', 'Rainfall', 'Evaporation', 'Sunshine',\n",
        "                          'WindGustSpeed', 'WindSpeed9am', 'WindSpeed3pm','Humidity9am',\n",
        "                          'Humidity3pm', 'Pressure9am','Pressure3pm', 'Cloud9am',\n",
        "                          'Cloud3pm', 'Temp9am', 'Temp3pm', 'RainfallTomorrow']\n",
        "\n",
        "    # Rellenar valores faltantes en 'RainToday' y 'RainTomorrow'\n",
        "    data['RainToday'] = data.groupby('Date')['RainToday'].transform(lambda x: x.fillna(x.mode().iloc[0]))\n",
        "    data['RainTomorrow'] = data.groupby('Date')['RainTomorrow'].transform(lambda x: x.fillna(x.mode().iloc[0]))\n",
        "\n",
        "    # Rellenar valores faltantes en direcciones del viento\n",
        "    data['WindGustDir'] = data.groupby('Date')['WindGustDir'].transform(lambda x: x.fillna(x.mode().iloc[0]) if not x.isna().all() else x)\n",
        "    data['WindDir9am'] = data.groupby('Date')['WindDir9am'].transform(lambda x: x.fillna(x.mode().iloc[0]) if not x.isna().all() else x)\n",
        "    data['WindDir3pm'] = data.groupby('Date')['WindDir3pm'].transform(lambda x: x.fillna(x.mode().iloc[0]) if not x.isna().all() else x)\n",
        "\n",
        "    # Rellenar valores faltantes con la media por día para las columnas especificadas\n",
        "    media_por_dia = data.groupby('Date')[columnas_con_nulos].transform('mean')\n",
        "    data[columnas_con_nulos] = data[columnas_con_nulos].fillna(media_por_dia)\n",
        "\n",
        "    data['Date'] = pd.to_datetime(data['Date'])\n",
        "\n",
        "    return data\n"
      ]
    },
    {
      "cell_type": "code",
      "execution_count": 5,
      "metadata": {
        "id": "BJx1V3tHHViG"
      },
      "outputs": [],
      "source": [
        "def crear_columna_season(data):\n",
        "   data['season'] = data['Date'].apply(asignar_estacion)\n",
        "   return data"
      ]
    },
    {
      "cell_type": "code",
      "execution_count": 6,
      "metadata": {
        "id": "25SCfZasHepN"
      },
      "outputs": [],
      "source": [
        "def asignar_estacion(fecha):\n",
        "    mes = fecha.month\n",
        "    if mes in [12, 1, 2]:  # Verano: Diciembre, Enero, Febrero\n",
        "        return 'Summer'\n",
        "    elif mes in [3, 4, 5]:  # Otoño: Marzo, Abril, Mayo\n",
        "        return 'Autumn'\n",
        "    elif mes in [6, 7, 8]:  # Invierno: Junio, Julio, Agosto\n",
        "        return 'Winter'\n",
        "    else:  # Primavera: Septiembre, Octubre, Noviembre\n",
        "        return 'Spring'"
      ]
    },
    {
      "cell_type": "code",
      "execution_count": 7,
      "metadata": {
        "id": "JngxP-xIHjFl"
      },
      "outputs": [],
      "source": [
        "def codificar_variables(data):\n",
        "    data1 = pd.get_dummies(data, columns=['RainToday', 'RainTomorrow', 'season', 'Location'], drop_first=True)\n",
        "\n",
        "    # Crear columnas para WindGustDir, WindDir9am, WindDir3pm\n",
        "    wind_directions = [\"SW\", \"S\", 'SSW', 'W', 'SSE', 'E', 'SE', 'NE', 'NNE', 'WSW', 'WNW', 'NW', 'N', 'ESE', 'ENE']\n",
        "    for var in wind_directions:\n",
        "        data1[f'WindGustDir_{var}'] = (data['WindGustDir'] == var).astype(int)\n",
        "        data1[f'WindDir9am_{var}'] = (data['WindDir9am'] == var).astype(int)\n",
        "        data1[f'WindDir3pm_{var}'] = (data['WindDir3pm'] == var).astype(int)\n",
        "\n",
        "    return data1.drop(columns=['WindGustDir', 'WindDir9am', 'WindDir3pm'])"
      ]
    },
    {
      "cell_type": "code",
      "execution_count": 8,
      "metadata": {
        "id": "py6hmsCWWbUi"
      },
      "outputs": [],
      "source": [
        "def estandarizar_df(data):\n",
        "  scaler = RobustScaler()\n",
        "  data_scaled = scaler.fit_transform(data)\n",
        "  return data_scaled"
      ]
    },
    {
      "cell_type": "code",
      "execution_count": 9,
      "metadata": {
        "id": "t4iH0DupLSY8"
      },
      "outputs": [],
      "source": [
        "def truncar_dividir_df(data):\n",
        "    data = data.sort_values([\"Date\"])\n",
        "    fecha_especifica = '2009-01-01'\n",
        "    data_filtrada = data[data['Date'] >= fecha_especifica]\n",
        "\n",
        "    data_filtrada.reset_index(drop=True, inplace=True)  # Resetea el índice y no crea uno nuevo\n",
        "    data_train = data_filtrada.iloc[:21658]\n",
        "\n",
        "    return data_train"
      ]
    },
    {
      "cell_type": "code",
      "execution_count": 10,
      "metadata": {
        "id": "zJk2EMejqT5l"
      },
      "outputs": [],
      "source": [
        "def estandarizar_df(data):\n",
        "    # Separar variables independientes y dependientes\n",
        "    X_regresion = data.drop(columns =['RainfallTomorrow', 'RainTomorrow_Yes','Date'])\n",
        "    X_scaled = estandarizar_df(data)\n",
        "    y_regresion = data['RainfallTomorrow'].values.reshape(-1, 1)\n",
        "    y_scaled = estandarizar_df(pd.DataFrame(y_regresion, columns=['RainfallTomorrow']))\n",
        "    return X_scaled, y_scaled"
      ]
    },
    {
      "cell_type": "code",
      "execution_count": 11,
      "metadata": {
        "id": "Uto6RXcgcruv"
      },
      "outputs": [],
      "source": [
        "def estandarizar_balancear_clas(data):\n",
        "    #X_clasificacion = data.drop(columns=['RainTomorrow_Yes'])\n",
        "    X_scaled1 = estandarizar_df(data)\n",
        "    y_clasificacion = data['RainTomorrow_Yes']\n",
        "\n",
        "    smote = SMOTE(random_state=42)\n",
        "    X_smote_scaled, y_smote_scaled = smote.fit_resample(X_scaled1, y_clasificacion)\n",
        "\n",
        "    return X_smote_scaled, y_smote_scaled"
      ]
    },
    {
      "cell_type": "code",
      "execution_count": 12,
      "metadata": {
        "id": "SyNLlM6yoUnw"
      },
      "outputs": [],
      "source": [
        "# Definir la arquitectura de la red neuronal para regresión\n",
        "def create_regression_model(input_shape):\n",
        "    model = Sequential()\n",
        "    model.add(Dense(126, input_dim=input_shape, activation='relu'))\n",
        "    model.add(Dropout(0.5)) # Capa de Dropout para regularizacion, evita el overfitting\n",
        "    model.add(Dense(64, activation='relu'))\n",
        "    model.add(Dropout(0.5))\n",
        "    model.add(Dense(32, activation='relu'))\n",
        "    model.add(Dropout(0.5))\n",
        "    model.add(Dense(1))  # Capa de salida para regresión\n",
        "    return model"
      ]
    },
    {
      "cell_type": "code",
      "execution_count": 13,
      "metadata": {
        "id": "O-_zgTkTodBQ"
      },
      "outputs": [],
      "source": [
        "def regression_model(X_train_scaled, y_train_scaled):\n",
        "  # Crear el modelo\n",
        "  regression_model = create_regression_model(X_train_scaled.shape[1])\n",
        "\n",
        "  # Compilar el modelo\n",
        "  regression_model.compile(optimizer=Adam(learning_rate=0.001), loss='mse', metrics=['mae'])\n",
        "\n",
        "  # Entrenar el modelo\n",
        "  history_regression = regression_model.fit(X_train_scaled, y_train_scaled, epochs=100, batch_size=32)\n",
        "  return"
      ]
    },
    {
      "cell_type": "code",
      "execution_count": 14,
      "metadata": {
        "id": "DvUEoVfLvEH7"
      },
      "outputs": [],
      "source": [
        "# Definir la arquitectura de la red neuronal para clasificación\n",
        "def create_classification_model(input_shape):\n",
        "    model = Sequential()\n",
        "    model.add(Dense(126, input_dim=input_shape, activation='relu'))\n",
        "    model.add(Dropout(0.5)) # Capa de Dropout para regularizacion, evita el overfitting\n",
        "    model.add(Dense(64, activation='relu'))\n",
        "    model.add(Dropout(0.5)) # Capa de Dropout para regularizacion, evita el overfitting\n",
        "    model.add(Dense(32, activation='relu'))\n",
        "    model.add(Dropout(0.5))\n",
        "    model.add(Dense(1, activation='sigmoid'))  # Capa de salida para clasificación binaria\n",
        "    return model\n"
      ]
    },
    {
      "cell_type": "code",
      "execution_count": 15,
      "metadata": {
        "id": "vgRAz7SFvK3r"
      },
      "outputs": [],
      "source": [
        "def clasification_model(X_smote_train, y_smote_train):\n",
        "  # Crear el modelo\n",
        "  classification_model = create_classification_model(X_smote_train.shape[1])\n",
        "\n",
        "  # Compilar el modelo\n",
        "  classification_model.compile(optimizer=Adam(learning_rate=0.001), loss= 'binary_crossentropy', metrics= ['Precision'])\n",
        "\n",
        "  # Entrenar el modelo\n",
        "  history_classification = classification_model.fit(X_smote_train, y_smote_train, epochs=100, batch_size=32)\n",
        "\n",
        "  return"
      ]
    },
    {
      "cell_type": "code",
      "execution_count": 16,
      "metadata": {
        "id": "QXESzQ93GB1A"
      },
      "outputs": [
        {
          "name": "stdout",
          "output_type": "stream",
          "text": [
            "<class 'pandas.core.frame.DataFrame'>\n",
            "Int64Index: 28233 entries, 6047 to 102519\n",
            "Data columns (total 25 columns):\n",
            " #   Column            Non-Null Count  Dtype  \n",
            "---  ------            --------------  -----  \n",
            " 0   Unnamed: 0        28233 non-null  int64  \n",
            " 1   Date              28233 non-null  object \n",
            " 2   Location          28233 non-null  object \n",
            " 3   MinTemp           27663 non-null  float64\n",
            " 4   MaxTemp           27675 non-null  float64\n",
            " 5   Rainfall          27247 non-null  float64\n",
            " 6   Evaporation       23880 non-null  float64\n",
            " 7   Sunshine          21520 non-null  float64\n",
            " 8   WindGustDir       26588 non-null  object \n",
            " 9   WindGustSpeed     26591 non-null  float64\n",
            " 10  WindDir9am        26585 non-null  object \n",
            " 11  WindDir3pm        27796 non-null  object \n",
            " 12  WindSpeed9am      27875 non-null  float64\n",
            " 13  WindSpeed3pm      27893 non-null  float64\n",
            " 14  Humidity9am       27293 non-null  float64\n",
            " 15  Humidity3pm       27343 non-null  float64\n",
            " 16  Pressure9am       27394 non-null  float64\n",
            " 17  Pressure3pm       27404 non-null  float64\n",
            " 18  Cloud9am          18866 non-null  float64\n",
            " 19  Cloud3pm          18683 non-null  float64\n",
            " 20  Temp9am           27648 non-null  float64\n",
            " 21  Temp3pm           27657 non-null  float64\n",
            " 22  RainToday         27247 non-null  object \n",
            " 23  RainTomorrow      27248 non-null  object \n",
            " 24  RainfallTomorrow  27248 non-null  float64\n",
            "dtypes: float64(17), int64(1), object(7)\n",
            "memory usage: 5.6+ MB\n"
          ]
        }
      ],
      "source": [
        "pipeline_prepara_datos = Pipeline([\n",
        "    ('preproceso', FunctionTransformer(preprocesamiento, validate=False)),\n",
        "    ('season', FunctionTransformer(crear_columna_season, validate=False)),\n",
        "    ('codificar', FunctionTransformer(codificar_variables, validate=False))\n",
        "])\n",
        "\n",
        "# Obtener datos de entrenamiento\n",
        "df_procesado = pipeline_prepara_datos.fit_transform(df)\n",
        "\n",
        "pipeline_train_split = Pipeline([\n",
        "    ('split', FunctionTransformer(truncar_dividir_df, validate=False)),\n",
        "    ('estandarizar', FunctionTransformer(estandarizar_df, validate=False)),\n",
        "    ])\n",
        "\n",
        "pipeline_modelo_regresion = Pipeline([\n",
        "     ('modelo', FunctionTransformer(regression_model, validate=False))\n",
        "                                      ])\n",
        "\n",
        "# Obtener datos de entrenamiento\n",
        "X_train_scaled, y_train_scaled = pipeline_train_split.fit_transform(df_procesado)\n",
        "\n",
        " # Entrenar el modelo\n",
        "pipeline_modelo_regresion.fit(X_train_scaled, y_train_scaled, epochs=100, batch_size=32)\n",
        "\n",
        "joblib.dump(pipeline_modelo_regresion, 'models/regresion_pipeline.joblib')"
      ]
    },
    {
      "cell_type": "code",
      "execution_count": null,
      "metadata": {
        "id": "emoswcDTGW0G"
      },
      "outputs": [],
      "source": [
        "pipeline_train_split_clas = Pipeline([\n",
        "    ('split', FunctionTransformer(truncar_dividir_df, validate=False)),\n",
        "    ('estandarizar_clas', FunctionTransformer(estandarizar_balancear_clas, validate=False)),\n",
        "    ])\n",
        "\n",
        "pipeline_modelo_clasificacion = Pipeline([\n",
        "     ('modelo_clas', FunctionTransformer(clasification_model, validate=False))\n",
        "                                      ])\n",
        "\n",
        "df_procesado1 = pipeline_prepara_datos.fit_transform(df)\n",
        "\n",
        "# Obtener datos de entrenamiento\n",
        "X_smote_train, y_smote_train = pipeline_train_split_clas.fit_transform(df_procesado1)\n",
        "\n",
        "# Entrenar_modelo\n",
        "pipeline_modelo_clasificacion.fit(X_smote_train, y_smote_train, epochs=100, batch_size=32)\n",
        "\n",
        "joblib.dump(pipeline_modelo_clasificacion, 'models/clasificacion_pipeline.joblib')"
      ]
    }
  ],
  "metadata": {
    "colab": {
      "include_colab_link": true,
      "provenance": []
    },
    "kernelspec": {
      "display_name": "Python 3",
      "name": "python3"
    },
    "language_info": {
      "codemirror_mode": {
        "name": "ipython",
        "version": 3
      },
      "file_extension": ".py",
      "mimetype": "text/x-python",
      "name": "python",
      "nbconvert_exporter": "python",
      "pygments_lexer": "ipython3",
      "version": "3.10.3"
    }
  },
  "nbformat": 4,
  "nbformat_minor": 0
}

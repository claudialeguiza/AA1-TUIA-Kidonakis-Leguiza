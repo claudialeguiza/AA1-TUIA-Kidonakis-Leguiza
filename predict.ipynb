{
  "nbformat": 4,
  "nbformat_minor": 0,
  "metadata": {
    "colab": {
      "provenance": [],
      "authorship_tag": "ABX9TyOgcVwV8riZTkXJxe1QjccC",
      "include_colab_link": true
    },
    "kernelspec": {
      "name": "python3",
      "display_name": "Python 3"
    },
    "language_info": {
      "name": "python"
    }
  },
  "cells": [
    {
      "cell_type": "markdown",
      "metadata": {
        "id": "view-in-github",
        "colab_type": "text"
      },
      "source": [
        "<a href=\"https://colab.research.google.com/github/claudialeguiza/AA1-TUIA-Kidonakis-Leguiza/blob/navegador/predict.ipynb\" target=\"_parent\"><img src=\"https://colab.research.google.com/assets/colab-badge.svg\" alt=\"Open In Colab\"/></a>"
      ]
    },
    {
      "cell_type": "code",
      "execution_count": 45,
      "metadata": {
        "id": "rwTo3cPB-CsL"
      },
      "outputs": [],
      "source": [
        "import pandas as pd\n",
        "import numpy as np\n",
        "import datetime\n",
        "\n",
        "import matplotlib.pyplot as plt\n",
        "import pandas as pd\n",
        "from sklearn.preprocessing import RobustScaler, FunctionTransformer\n",
        "from imblearn.over_sampling import SMOTE\n",
        "from sklearn.pipeline import Pipeline\n",
        "import keras\n",
        "from keras.models import Sequential, load_model\n",
        "from keras.layers import Dense, Activation, Dropout\n",
        "from keras.optimizers import Adam\n",
        "from keras.metrics import Precision\n",
        "from keras.utils import to_categorical\n",
        "import joblib\n",
        "import warnings\n",
        "warnings.simplefilter('ignore')\n"
      ]
    },
    {
      "cell_type": "code",
      "source": [
        "def mostrar_ciudades():\n",
        "    print(\"Las ciudades sobre las cuales puede hacer consulta son las siguientes:\",\"\\n\")\n",
        "    print(\"1. Sidney\")\n",
        "    print(\"2. SidneyAirport\")\n",
        "    print(\"3. Melbourne\")\n",
        "    print(\"4. MelbournAirport\")\n",
        "    print(\"5. Canberra\")\n",
        "    print(\"6. Adelaide\")\n",
        "    print(\"7. MountGambier\")\n",
        "    print(\"8. Cobar\")\n",
        "    print(\"9. Dartmoor\")\n",
        "    print(\"10. Salir\")\n",
        "    return"
      ],
      "metadata": {
        "id": "y_F-ZyFMYJ46"
      },
      "execution_count": 46,
      "outputs": []
    },
    {
      "cell_type": "code",
      "source": [
        "def validar_ciudad(opcion):\n",
        "\n",
        "    if opcion == \"1\":\n",
        "        location = \"Sidney\"\n",
        "    elif opcion == \"2\":\n",
        "        location = \"SidneyAirport\"\n",
        "    elif opcion == \"3\":\n",
        "        location = \"Melbourne\"\n",
        "    elif opcion == \"4\":\n",
        "        location = \"MelbourneAirport\"\n",
        "    elif opcion == \"5\":\n",
        "       location = \"Canberra\"\n",
        "    elif opcion == \"6\":\n",
        "       location = \"Adelaida\"\n",
        "    elif opcion == \"7\":\n",
        "       location = \"MontGambier\"\n",
        "    elif opcion == \"8\":\n",
        "       location = \"Cobar\"\n",
        "    elif opcion == \"9\":\n",
        "       location = \"Dartmoor\"\n",
        "    elif opcion == \"10\":\n",
        "        print(\"Gracias por usar el predictor\")\n",
        "        return\n",
        "\n",
        "    return location"
      ],
      "metadata": {
        "id": "gAhn_ovvZ87T"
      },
      "execution_count": 47,
      "outputs": []
    },
    {
      "cell_type": "code",
      "source": [
        "def validar_temp(temp):\n",
        "\ttry:\n",
        "\t\tdecimal = float(temp)\n",
        "\texcept ValueError:\n",
        "\t\treturn False #si la conversión falla devolvemos False\n",
        "\n",
        "\treturn (decimal >= -10 and decimal <= 50)"
      ],
      "metadata": {
        "id": "CL--L7Q0ewsz"
      },
      "execution_count": 48,
      "outputs": []
    },
    {
      "cell_type": "code",
      "source": [
        "def validar_presion(pres):\n",
        "\ttry:\n",
        "\t\tdecimal = float(pres)\n",
        "\texcept ValueError:\n",
        "\t\treturn False #si la conversión falla devolvemos False\n",
        "\n",
        "\treturn (decimal >= 950 and decimal <= 1041)"
      ],
      "metadata": {
        "id": "3wa60zlRo1JL"
      },
      "execution_count": 49,
      "outputs": []
    },
    {
      "cell_type": "code",
      "source": [
        "def validar_nubosidad(nub):\n",
        "\ttry:\n",
        "\t\tdecimal = float(nub)\n",
        "\texcept ValueError:\n",
        "\t\treturn False #si la conversión falla devolvemos False\n",
        "\n",
        "\treturn (decimal >= 0 and decimal <= 10)"
      ],
      "metadata": {
        "id": "bmtXJ6_8s8lg"
      },
      "execution_count": 50,
      "outputs": []
    },
    {
      "cell_type": "code",
      "source": [
        "def validar_humedad(humed):\n",
        "\ttry:\n",
        "\t\tdecimal = float(humed)\n",
        "\texcept ValueError:\n",
        "\t\treturn False #si la conversión falla devolvemos False\n",
        "\n",
        "\treturn (decimal >= 0 and decimal <= 100)"
      ],
      "metadata": {
        "id": "a2sN6DH2vMfl"
      },
      "execution_count": 51,
      "outputs": []
    },
    {
      "cell_type": "code",
      "source": [
        "def mostrar_opciones():\n",
        "    print(\"Opciones direccion del viento permitidas:\",\"\\n\")\n",
        "    print(\"N - Norte   NE - Noreste  NW - Noroeste  NNE - Norte Noreste\", \"\\n\" )\n",
        "    print(\"S - Sur     SE - Sureste  SW - Suroeste  SSE - Sur Sureste    SSW - Sur Suroeste\" , \"\\n\")\n",
        "    print(\"E - Este    ESE - Este Sureste           ENE - Este Noreste\", \"\\n\" )\n",
        "    print(\"W - Oeste   WSW - Oeste Suroeste         WNW - Oeste Noroeste\", \"\\n\" )\n",
        "\n",
        "    return\n",
        ""
      ],
      "metadata": {
        "id": "kZXJTz5S-Yyw"
      },
      "execution_count": 52,
      "outputs": []
    },
    {
      "cell_type": "code",
      "source": [
        "def obtener_datos_clima(dato):\n",
        "\n",
        "    lista_direcciones = [\"N\", \"NE\", \"NW\", \"NNE\", \"S\", \"SE\", \"SW\", \"SSE\", \"E\",\\\n",
        "                           \"ESE\", \"ENE\", \"W\", \"WSW\", \"WNW\", \"SSW\", \"\"]\n",
        "\n",
        "    if dato == 'MinTemp':\n",
        "       valor = input(\"Temperatura minima(grados C):\")\n",
        "       while (validar_temp(valor) == False):\n",
        "           print(\"Temperatura no valida\")\n",
        "           valor = input(\"Temperatura minima (grados C):\")\n",
        "       return float(valor)\n",
        "\n",
        "    if dato == 'MaxTemp':\n",
        "       valor = input(\"Temperatura maxima(grados C):\")\n",
        "       while (validar_temp(valor) == False):\n",
        "           print(\"Temperatura no valida\")\n",
        "           valor = input(\"Temperatura maxima (grados C):\")\n",
        "       return float(valor)\n",
        "\n",
        "    if dato == 'Rainfall':\n",
        "       valor = input(\"Lluvia caida (mm) - Ingrese 0 si no llovio:\")\n",
        "       while (valor < ' 0' and valor > '300') :\n",
        "           print(\"Valor no valido\")\n",
        "           valor = input(\"Milimetros de lluvia caida(Ingrese 0 si no llovio):\")\n",
        "       return float(valor)\n",
        "\n",
        "    if dato == 'Evaporation':\n",
        "       valor = input(\"Evaporacion (mm):\")\n",
        "       while (valor < '0' and valor > '100'):\n",
        "            print(\"Valor no valido\")\n",
        "            valor = input(\"Evaporacion (mm):\")\n",
        "       return float(valor)\n",
        "\n",
        "    if dato == 'Sunshine':\n",
        "       valor = input(\"Horas de Sol:\")\n",
        "       while  (valor < '0' and valor > '11'):\n",
        "           print(\"Valor no valido\")\n",
        "           valor = input(\"Horas de Sol:\")\n",
        "       return float(valor)\n",
        "\n",
        "    if dato == 'WindGustDir':\n",
        "       valor = input(\"Direccion rafagas de viento fuerte (ultimas 24 hs):\")\n",
        "       while valor not in lista_direcciones:\n",
        "             print(\"Direccion no valida\")\n",
        "             valor = input(\"Direccion rafagas de viento fuerte (ultimas 24 hs):\")\n",
        "       return valor\n",
        "\n",
        "    if dato == 'WindGustSpeed':\n",
        "       valor = input(\"Velocidad de las rafagas de viento fuerte(ultimas 24 hs - km/h):\")\n",
        "       while (valor < '0' and valor > '400'):\n",
        "              print(\"Valor no valido\")\n",
        "              valor = input(\"Velocidad de las rafagas de viento fuerte(ultimas 24 hs - km/h):\")\n",
        "       return float(valor)\n",
        "\n",
        "    if dato == 'WindDir9am':\n",
        "       valor = input(\"Direccion del viento 9AM: \")\n",
        "       while valor not in lista_direcciones:\n",
        "              print(\"Direccion no valda\")\n",
        "              valor = input(\"Direccion del viento 9AM: \")\n",
        "       return valor\n",
        "\n",
        "    if dato == 'WindDir3pm':\n",
        "       valor = input(\"Direccion del viento 3PM: \")\n",
        "       while valor not in lista_direcciones:\n",
        "             print(\"direccion no valida\")\n",
        "             valor = input(\"Direccion del viento 3PM: \")\n",
        "       return valor\n",
        "\n",
        "    if dato == 'WindSpeed9am':\n",
        "       valor = input(\"Velocidad del viento 9AM (km/h): \")\n",
        "       while (valor < '0' and valor > '400') :\n",
        "             print(\"Valor no valido\")\n",
        "             valor = input(\"Velocidad del viento 9AM(km/h):\")\n",
        "       return float(valor)\n",
        "\n",
        "    if dato == 'WindSpeed3pm':\n",
        "       valor = input(\"Velocidad del viento 3PM (km/h):\")\n",
        "       while (valor < '0' and valor > '400'):\n",
        "             print(\"Valor no valido\")\n",
        "             valor = input(\"Velocidad del viento 3PM(km/h):\")\n",
        "       return float(valor)\n",
        "\n",
        "    if dato =='Humidity9am':\n",
        "       valor = input('Humedad 9AM: ')\n",
        "       while validar_humedad(valor) == False:\n",
        "             print('Humedad no valida')\n",
        "             valor = input('Humedad 9AM:')\n",
        "       return float(valor)\n",
        "\n",
        "    if dato == 'Humidity3pm':\n",
        "       valor = input(\"Humedad 3PM:\")\n",
        "       while (validar_humedad(valor) == False):\n",
        "           print('Humedad no valida')\n",
        "           valor = input('Humedad 3PM: ')\n",
        "       return float(valor)\n",
        "\n",
        "    if dato == 'Pressure9am':\n",
        "       valor = input(\"Presion 9AM:\")\n",
        "       while (validar_presion(valor) == False):\n",
        "             print(\"Presion no valida\")\n",
        "             valor = input(\"presion 9 AM:\")\n",
        "       return float(valor)\n",
        "\n",
        "    if dato == 'Pressure3pm':\n",
        "       valor = input(\"Presion 3PM: \")\n",
        "       while (validar_presion(valor) == False):\n",
        "             print(\"Presion no valida\")\n",
        "             valor = input(\"Presion 3PM:\")\n",
        "       return float(valor)\n",
        "\n",
        "    if dato == 'Cloud9am':\n",
        "       valor = input(\"Nubosidad 9AM:\")\n",
        "       while (validar_nubosidad(valor) == False):\n",
        "             print(\"Nubosidad no valida\")\n",
        "             valor = input(\"Nubosidad 9AM:\")\n",
        "       return float(valor)\n",
        "\n",
        "    if dato == 'Cloud3pm':\n",
        "       valor = input(\"Nubosidad 3PM:\")\n",
        "       while (validar_nubosidad(valor) == False):\n",
        "             print(\"Nubosidad no valida\")\n",
        "             validar_otras = input(\"Nubosidad 3PM:\")\n",
        "       return float(valor)\n",
        "\n",
        "    if dato =='Temp9am':\n",
        "       valor = input(\"Temperatura 9AM:\")\n",
        "       while (validar_temp(valor) == False):\n",
        "             print(\"Temperatura no valida\")\n",
        "             valor = input(\"Temperatura 9AM: \")\n",
        "       return float(valor)\n",
        "\n",
        "    if dato == 'Temp3pm':\n",
        "       valor = input(\"Temperatura 3PM: \")\n",
        "       while (validar_temp(valor) == False):\n",
        "             print(\"Temperatura no valida\")\n",
        "             valor = input(\"Temperatura 3PM: \")\n",
        "       return float(valor)\n",
        "\n",
        "    if dato == 'RainToday':\n",
        "       valor = input(\"Llueve hoy?:(Yes/No)\")\n",
        "       while (valor != 'Yes' and valor != 'No'):\n",
        "           print(\"Respuesta no valida\")\n",
        "           valor = input(\"Llueve hoy?:(Yes/No)\")\n",
        "       return valor\n",
        "\n"
      ],
      "metadata": {
        "id": "ruy89yoNCL-n"
      },
      "execution_count": 53,
      "outputs": []
    },
    {
      "cell_type": "code",
      "source": [
        "def validar_opcion(valor):\n",
        "\ttry:\n",
        "\t\tdecimal = float(valor)\n",
        "\texcept ValueError:\n",
        "\t\treturn False #si la conversión falla devolvemos False\n",
        "\n",
        "\treturn decimal >= 0 and decimal <= 10"
      ],
      "metadata": {
        "id": "GfTktiY2b_Qi"
      },
      "execution_count": 54,
      "outputs": []
    },
    {
      "cell_type": "code",
      "source": [
        "def obtener_prediccion(df_filtrada, modelo):\n",
        "    prediccion = modelo.predict(df_filtrada)\n",
        "    return prediccion\n",
        ""
      ],
      "metadata": {
        "id": "5bgt7b20CBoi"
      },
      "execution_count": 55,
      "outputs": []
    },
    {
      "cell_type": "code",
      "source": [
        "def interactuar_con_usuario():\n",
        "    print(\"¡Bienvenido al predictor del clima de Australia para mañana!\", \"\\n\")\n",
        "\n",
        "    armar_prediccion = {}\n",
        "    now = datetime.datetime.now()\n",
        "    fecha = now.strftime(\"%Y-%m-%d\")\n",
        "\n",
        "    mostrar_ciudades()\n",
        "    opcion = input(\"Seleccione una opcion: \")\n",
        "    while validar_opcion(opcion) == False:\n",
        "           print (\"opcion no valida\")\n",
        "           opcion = input(\"Seleccione una opcion: \")\n",
        "    if opcion == '10':\n",
        "       print (\"Gracias por usar el predictor\")\n",
        "       return opcion\n",
        "\n",
        "    else:\n",
        "\n",
        "      print(\"Ingrese los siguientes datos para predecir\", \"\\n\")\n",
        "      mostrar_opciones()\n",
        "      armar_prediccion = {'Date': (fecha),\n",
        "                        'Location': validar_ciudad(opcion),\n",
        "                        'MinTemp': obtener_datos_clima(\"MinTemp\"),\n",
        "                        'MaxTemp': obtener_datos_clima(\"MaxTemp\"),\n",
        "                        'Rainfall': obtener_datos_clima(\"Rainfall\"),\n",
        "                        'Evaporation': obtener_datos_clima(\"Evaporation\"),\n",
        "                        'Sunshine': obtener_datos_clima(\"Sunshine\"),\n",
        "                        'WindGustDir': obtener_datos_clima(\"WindGustDir\"),\n",
        "                        'WindGustSpeed': obtener_datos_clima(\"WindGustSpeed\"),\n",
        "                        'WindDir9am': obtener_datos_clima(\"WindDir9am\"),\n",
        "                        'WindDir3pm': obtener_datos_clima(\"WindDir3pm\"),\n",
        "                        'WindSpeed9am': obtener_datos_clima(\"WindSpeed9am\"),\n",
        "                        'WindSpeed3pm': obtener_datos_clima(\"WindSpeed3pm\"),\n",
        "                        'Humidity9am': obtener_datos_clima(\"Humidity9am\"),\n",
        "                        'Humidity3pm': obtener_datos_clima(\"Humidity3pm\"),\n",
        "                        'Pressure9am': obtener_datos_clima(\"Pressure9am\"),\n",
        "                        'Pressure3pm': obtener_datos_clima(\"Pressure3pm\"),\n",
        "                        'Cloud9am': obtener_datos_clima(\"Cloud9am\"),\n",
        "                        'Cloud3pm': obtener_datos_clima(\"Cloud3pm\"),\n",
        "                        'Temp9am': obtener_datos_clima(\"Temp9am\"),\n",
        "                        'Temp3pm': obtener_datos_clima(\"Temp3pm\"),\n",
        "                        'RainToday' : obtener_datos_clima(\"RainToday\")\n",
        "                          }\n",
        ""
      ],
      "metadata": {
        "id": "y3QMLqdGcAIy"
      },
      "execution_count": 56,
      "outputs": []
    },
    {
      "cell_type": "code",
      "source": [
        "def cargar_modelo_regresion():\n",
        "    # Cargamos el modelo\n",
        "      modelo_regresion = load_model('/content/regression_model.h5')\n",
        "      return modelo_regresion"
      ],
      "metadata": {
        "id": "jyDleqCbTUPV"
      },
      "execution_count": 57,
      "outputs": []
    },
    {
      "cell_type": "code",
      "source": [
        "def cargar_modelo_clasificacion():\n",
        "      modelo_clasif = load_model('/content/classification_model_optimized.h5')\n",
        "      return modelo_clasif"
      ],
      "metadata": {
        "id": "sRcwjWf2Txtl"
      },
      "execution_count": 58,
      "outputs": []
    },
    {
      "cell_type": "code",
      "source": [
        "# Cargamos el dataset\n",
        "datos =  pd.read_csv('/content/weatherAUS.csv', delimiter = \",\")\n",
        "df = datos[datos.Location\\\n",
        "        .isin(( 'Sydney','SydneyAirport','Melbourne', 'MelbourneAirport',\\\n",
        "                'Canberra','Adelaide', 'MountGambier','Cobar', 'Dartmoor' ))]\n",
        "# Cargamos los pipelines\n",
        "pipeline_regresion = joblib.load('/content/regresion_pipeline.joblib')\n",
        "pipeline_clasificacion = joblib.load('/content/clasificacion_pipeline.joblib')\n",
        "\n",
        "\n",
        "dic_prediccion = interactuar_con_usuario()\n",
        "if dic_prediccion == '10':\n",
        "   exit()\n",
        "else:\n",
        "   df_prediccion =pd.DataFrame([dic_prediccion], index = [0])\n",
        "\n",
        "   #Aplicamos los pipelines\n",
        "   prediccion_clasificacion = pipeline_clasificacion.predict(df_prediccion)\n",
        "   print(\" La prediccion es \", prediccion_clasificacion)\n",
        "   prediccion_regresion = pipeline_regresion.predict(df_prediccion)\n",
        "   print(\" Caeran aprox : \", prediccion_regresion, 'mm')"
      ],
      "metadata": {
        "colab": {
          "base_uri": "https://localhost:8080/",
          "height": 1000
        },
        "id": "03x2XCipP0QX",
        "outputId": "0d399da8-a7b2-4572-915d-145fac1af155"
      },
      "execution_count": 59,
      "outputs": [
        {
          "name": "stdout",
          "output_type": "stream",
          "text": [
            "¡Bienvenido al predictor del clima de Australia para mañana! \n",
            "\n",
            "Las ciudades sobre las cuales puede hacer consulta son las siguientes: \n",
            "\n",
            "1. Sidney\n",
            "2. SidneyAirport\n",
            "3. Melbourne\n",
            "4. MelbournAirport\n",
            "5. Canberra\n",
            "6. Adelaide\n",
            "7. MountGambier\n",
            "8. Cobar\n",
            "9. Dartmoor\n",
            "10. Salir\n",
            "Seleccione una opcion: 4\n",
            "Ingrese los siguientes datos para predecir \n",
            "\n",
            "Opciones direccion del viento permitidas: \n",
            "\n",
            "N - Norte   NE - Noreste  NW - Noroeste  NNE - Norte Noreste \n",
            "\n",
            "S - Sur     SE - Sureste  SW - Suroeste  SSE - Sur Sureste    SSW - Sur Suroeste \n",
            "\n",
            "E - Este    ESE - Este Sureste           ENE - Este Noreste \n",
            "\n",
            "W - Oeste   WSW - Oeste Suroeste         WNW - Oeste Noroeste \n",
            "\n",
            "Temperatura minima(grados C):10\n",
            "Temperatura maxima(grados C):34\n",
            "Lluvia caida (mm) - Ingrese 0 si no llovio:0\n",
            "Evaporacion (mm):6\n",
            "Horas de Sol:8\n",
            "Direccion rafagas de viento fuerte (ultimas 24 hs):S\n",
            "Velocidad de las rafagas de viento fuerte(ultimas 24 hs - km/h):40\n",
            "Direccion del viento 9AM: SE\n",
            "Direccion del viento 3PM: S\n",
            "Velocidad del viento 9AM (km/h): 50\n",
            "Velocidad del viento 3PM (km/h):60\n",
            "Humedad 9AM: 60\n",
            "Humedad 3PM:80\n",
            "Presion 9AM:1000\n",
            "Presion 3PM: 1020\n",
            "Nubosidad 9AM:6\n",
            "Nubosidad 3PM:10\n",
            "Temperatura 9AM:15\n",
            "Temperatura 3PM: 39\n",
            "Llueve hoy?:(Yes/No)No\n"
          ]
        },
        {
          "output_type": "error",
          "ename": "AttributeError",
          "evalue": "'FunctionTransformer' object has no attribute 'predict'",
          "traceback": [
            "\u001b[0;31m---------------------------------------------------------------------------\u001b[0m",
            "\u001b[0;31mAttributeError\u001b[0m                            Traceback (most recent call last)",
            "\u001b[0;32m<ipython-input-59-4c870652e2d9>\u001b[0m in \u001b[0;36m<cell line: 12>\u001b[0;34m()\u001b[0m\n\u001b[1;32m     16\u001b[0m \u001b[0;34m\u001b[0m\u001b[0m\n\u001b[1;32m     17\u001b[0m    \u001b[0;31m#Aplicamos los pipelines\u001b[0m\u001b[0;34m\u001b[0m\u001b[0;34m\u001b[0m\u001b[0m\n\u001b[0;32m---> 18\u001b[0;31m    \u001b[0mprediccion_clasificacion\u001b[0m \u001b[0;34m=\u001b[0m \u001b[0mpipeline_clasificacion\u001b[0m\u001b[0;34m.\u001b[0m\u001b[0mpredict\u001b[0m\u001b[0;34m(\u001b[0m\u001b[0mdf_prediccion\u001b[0m\u001b[0;34m)\u001b[0m\u001b[0;34m\u001b[0m\u001b[0;34m\u001b[0m\u001b[0m\n\u001b[0m\u001b[1;32m     19\u001b[0m    \u001b[0mprint\u001b[0m\u001b[0;34m(\u001b[0m\u001b[0;34m\" La prediccion es \"\u001b[0m\u001b[0;34m,\u001b[0m \u001b[0mprediccion_clasificacion\u001b[0m\u001b[0;34m)\u001b[0m\u001b[0;34m\u001b[0m\u001b[0;34m\u001b[0m\u001b[0m\n\u001b[1;32m     20\u001b[0m    \u001b[0mprediccion_regresion\u001b[0m \u001b[0;34m=\u001b[0m \u001b[0mpipeline_regresion\u001b[0m\u001b[0;34m.\u001b[0m\u001b[0mpredict\u001b[0m\u001b[0;34m(\u001b[0m\u001b[0mdf_prediccion\u001b[0m\u001b[0;34m)\u001b[0m\u001b[0;34m\u001b[0m\u001b[0;34m\u001b[0m\u001b[0m\n",
            "\u001b[0;32m/usr/local/lib/python3.10/dist-packages/sklearn/utils/_available_if.py\u001b[0m in \u001b[0;36m__get__\u001b[0;34m(self, obj, owner)\u001b[0m\n\u001b[1;32m     30\u001b[0m             \u001b[0;31m# delegate only on instances, not the classes.\u001b[0m\u001b[0;34m\u001b[0m\u001b[0;34m\u001b[0m\u001b[0m\n\u001b[1;32m     31\u001b[0m             \u001b[0;31m# this is to allow access to the docstrings.\u001b[0m\u001b[0;34m\u001b[0m\u001b[0;34m\u001b[0m\u001b[0m\n\u001b[0;32m---> 32\u001b[0;31m             \u001b[0;32mif\u001b[0m \u001b[0;32mnot\u001b[0m \u001b[0mself\u001b[0m\u001b[0;34m.\u001b[0m\u001b[0mcheck\u001b[0m\u001b[0;34m(\u001b[0m\u001b[0mobj\u001b[0m\u001b[0;34m)\u001b[0m\u001b[0;34m:\u001b[0m\u001b[0;34m\u001b[0m\u001b[0;34m\u001b[0m\u001b[0m\n\u001b[0m\u001b[1;32m     33\u001b[0m                 \u001b[0;32mraise\u001b[0m \u001b[0mattr_err\u001b[0m\u001b[0;34m\u001b[0m\u001b[0;34m\u001b[0m\u001b[0m\n\u001b[1;32m     34\u001b[0m             \u001b[0mout\u001b[0m \u001b[0;34m=\u001b[0m \u001b[0mMethodType\u001b[0m\u001b[0;34m(\u001b[0m\u001b[0mself\u001b[0m\u001b[0;34m.\u001b[0m\u001b[0mfn\u001b[0m\u001b[0;34m,\u001b[0m \u001b[0mobj\u001b[0m\u001b[0;34m)\u001b[0m\u001b[0;34m\u001b[0m\u001b[0;34m\u001b[0m\u001b[0m\n",
            "\u001b[0;32m/usr/local/lib/python3.10/dist-packages/sklearn/pipeline.py\u001b[0m in \u001b[0;36mcheck\u001b[0;34m(self)\u001b[0m\n\u001b[1;32m     44\u001b[0m     \u001b[0;32mdef\u001b[0m \u001b[0mcheck\u001b[0m\u001b[0;34m(\u001b[0m\u001b[0mself\u001b[0m\u001b[0;34m)\u001b[0m\u001b[0;34m:\u001b[0m\u001b[0;34m\u001b[0m\u001b[0;34m\u001b[0m\u001b[0m\n\u001b[1;32m     45\u001b[0m         \u001b[0;31m# raise original `AttributeError` if `attr` does not exist\u001b[0m\u001b[0;34m\u001b[0m\u001b[0;34m\u001b[0m\u001b[0m\n\u001b[0;32m---> 46\u001b[0;31m         \u001b[0mgetattr\u001b[0m\u001b[0;34m(\u001b[0m\u001b[0mself\u001b[0m\u001b[0;34m.\u001b[0m\u001b[0m_final_estimator\u001b[0m\u001b[0;34m,\u001b[0m \u001b[0mattr\u001b[0m\u001b[0;34m)\u001b[0m\u001b[0;34m\u001b[0m\u001b[0;34m\u001b[0m\u001b[0m\n\u001b[0m\u001b[1;32m     47\u001b[0m         \u001b[0;32mreturn\u001b[0m \u001b[0;32mTrue\u001b[0m\u001b[0;34m\u001b[0m\u001b[0;34m\u001b[0m\u001b[0m\n\u001b[1;32m     48\u001b[0m \u001b[0;34m\u001b[0m\u001b[0m\n",
            "\u001b[0;31mAttributeError\u001b[0m: 'FunctionTransformer' object has no attribute 'predict'"
          ]
        }
      ]
    },
    {
      "cell_type": "code",
      "source": [],
      "metadata": {
        "id": "eKg-FNszPB4K"
      },
      "execution_count": null,
      "outputs": []
    }
  ]
}